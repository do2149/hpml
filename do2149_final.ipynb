{
  "cells": [
    {
      "cell_type": "markdown",
      "metadata": {
        "id": "hWjze0KdO2-k"
      },
      "source": [
        "多变量的动态时间规整算法"
      ]
    },
    {
      "cell_type": "code",
      "execution_count": 2,
      "metadata": {
        "colab": {
          "base_uri": "https://localhost:8080/"
        },
        "id": "9Bti8T0iSxSA",
        "outputId": "52e390ad-513c-4ec9-8ec3-bee32322d9dc"
      },
      "outputs": [
        {
          "output_type": "stream",
          "name": "stdout",
          "text": [
            "Mounted at /content/drive\n",
            "/content/drive/My Drive/data/week1\n"
          ]
        }
      ],
      "source": [
        "from google.colab import drive\n",
        "drive.mount('/content/drive')\n",
        "import os\n",
        "os.chdir('/content/drive/My Drive/data/week1')\n",
        "!pwd"
      ]
    },
    {
      "cell_type": "code",
      "execution_count": 3,
      "metadata": {
        "colab": {
          "base_uri": "https://localhost:8080/"
        },
        "id": "AQIy2wZIrsMn",
        "outputId": "a164047b-2704-42ae-851f-36a33c107719"
      },
      "outputs": [
        {
          "output_type": "stream",
          "name": "stdout",
          "text": [
            "Looking in indexes: https://pypi.org/simple, https://us-python.pkg.dev/colab-wheels/public/simple/\n",
            "Collecting dtw-python\n",
            "  Downloading dtw_python-1.3.0-cp38-cp38-manylinux_2_17_x86_64.manylinux2014_x86_64.whl (661 kB)\n",
            "\u001b[K     |████████████████████████████████| 661 kB 7.7 MB/s \n",
            "\u001b[?25hRequirement already satisfied: numpy>=1.19 in /usr/local/lib/python3.8/dist-packages (from dtw-python) (1.21.6)\n",
            "Requirement already satisfied: scipy>=1.1 in /usr/local/lib/python3.8/dist-packages (from dtw-python) (1.7.3)\n",
            "Installing collected packages: dtw-python\n",
            "Successfully installed dtw-python-1.3.0\n"
          ]
        }
      ],
      "source": [
        "!pip install dtw-python"
      ]
    },
    {
      "cell_type": "code",
      "execution_count": 4,
      "metadata": {
        "colab": {
          "base_uri": "https://localhost:8080/",
          "height": 307
        },
        "id": "Fn_oB6-GUyei",
        "outputId": "16c4559f-2d2e-4556-a079-aae93c515494"
      },
      "outputs": [
        {
          "output_type": "stream",
          "name": "stdout",
          "text": [
            "Importing the dtw module. When using in academic works please cite:\n",
            "  T. Giorgino. Computing and Visualizing Dynamic Time Warping Alignments in R: The dtw Package.\n",
            "  J. Stat. Soft., doi:10.18637/jss.v031.i07.\n",
            "\n"
          ]
        },
        {
          "output_type": "execute_result",
          "data": {
            "text/plain": [
              "                code     close      open      high      low  pre_close  \\\n",
              "trade_date                                                               \n",
              "2005-01-04  SH000905   986.927   996.682   996.682  984.795   1000.000   \n",
              "2005-01-05  SH000905  1003.633   986.570  1008.855  985.677    986.927   \n",
              "2005-01-06  SH000905   994.595  1003.490  1003.490  990.792   1003.633   \n",
              "2005-01-07  SH000905   997.606   993.434  1009.000  990.446    994.595   \n",
              "2005-01-10  SH000905  1006.337   996.928  1006.457  993.123    997.606   \n",
              "\n",
              "            change  pct_chg         vol       amount  difference  \n",
              "trade_date                                                        \n",
              "2005-01-04 -13.073  -1.3073  2323762.03  1329187.122      11.887  \n",
              "2005-01-05  16.706   1.6927  3486101.13  1919861.791      23.178  \n",
              "2005-01-06  -9.038  -0.9005  2933905.59  1629216.031      12.698  \n",
              "2005-01-07   3.011   0.3027  3391626.98  1906530.712      18.554  \n",
              "2005-01-10   8.731   0.8752  2949405.33  1650218.869      13.334  "
            ],
            "text/html": [
              "\n",
              "  <div id=\"df-f91d6e54-9cf3-4562-b8e0-362779f5ce82\">\n",
              "    <div class=\"colab-df-container\">\n",
              "      <div>\n",
              "<style scoped>\n",
              "    .dataframe tbody tr th:only-of-type {\n",
              "        vertical-align: middle;\n",
              "    }\n",
              "\n",
              "    .dataframe tbody tr th {\n",
              "        vertical-align: top;\n",
              "    }\n",
              "\n",
              "    .dataframe thead th {\n",
              "        text-align: right;\n",
              "    }\n",
              "</style>\n",
              "<table border=\"1\" class=\"dataframe\">\n",
              "  <thead>\n",
              "    <tr style=\"text-align: right;\">\n",
              "      <th></th>\n",
              "      <th>code</th>\n",
              "      <th>close</th>\n",
              "      <th>open</th>\n",
              "      <th>high</th>\n",
              "      <th>low</th>\n",
              "      <th>pre_close</th>\n",
              "      <th>change</th>\n",
              "      <th>pct_chg</th>\n",
              "      <th>vol</th>\n",
              "      <th>amount</th>\n",
              "      <th>difference</th>\n",
              "    </tr>\n",
              "    <tr>\n",
              "      <th>trade_date</th>\n",
              "      <th></th>\n",
              "      <th></th>\n",
              "      <th></th>\n",
              "      <th></th>\n",
              "      <th></th>\n",
              "      <th></th>\n",
              "      <th></th>\n",
              "      <th></th>\n",
              "      <th></th>\n",
              "      <th></th>\n",
              "      <th></th>\n",
              "    </tr>\n",
              "  </thead>\n",
              "  <tbody>\n",
              "    <tr>\n",
              "      <th>2005-01-04</th>\n",
              "      <td>SH000905</td>\n",
              "      <td>986.927</td>\n",
              "      <td>996.682</td>\n",
              "      <td>996.682</td>\n",
              "      <td>984.795</td>\n",
              "      <td>1000.000</td>\n",
              "      <td>-13.073</td>\n",
              "      <td>-1.3073</td>\n",
              "      <td>2323762.03</td>\n",
              "      <td>1329187.122</td>\n",
              "      <td>11.887</td>\n",
              "    </tr>\n",
              "    <tr>\n",
              "      <th>2005-01-05</th>\n",
              "      <td>SH000905</td>\n",
              "      <td>1003.633</td>\n",
              "      <td>986.570</td>\n",
              "      <td>1008.855</td>\n",
              "      <td>985.677</td>\n",
              "      <td>986.927</td>\n",
              "      <td>16.706</td>\n",
              "      <td>1.6927</td>\n",
              "      <td>3486101.13</td>\n",
              "      <td>1919861.791</td>\n",
              "      <td>23.178</td>\n",
              "    </tr>\n",
              "    <tr>\n",
              "      <th>2005-01-06</th>\n",
              "      <td>SH000905</td>\n",
              "      <td>994.595</td>\n",
              "      <td>1003.490</td>\n",
              "      <td>1003.490</td>\n",
              "      <td>990.792</td>\n",
              "      <td>1003.633</td>\n",
              "      <td>-9.038</td>\n",
              "      <td>-0.9005</td>\n",
              "      <td>2933905.59</td>\n",
              "      <td>1629216.031</td>\n",
              "      <td>12.698</td>\n",
              "    </tr>\n",
              "    <tr>\n",
              "      <th>2005-01-07</th>\n",
              "      <td>SH000905</td>\n",
              "      <td>997.606</td>\n",
              "      <td>993.434</td>\n",
              "      <td>1009.000</td>\n",
              "      <td>990.446</td>\n",
              "      <td>994.595</td>\n",
              "      <td>3.011</td>\n",
              "      <td>0.3027</td>\n",
              "      <td>3391626.98</td>\n",
              "      <td>1906530.712</td>\n",
              "      <td>18.554</td>\n",
              "    </tr>\n",
              "    <tr>\n",
              "      <th>2005-01-10</th>\n",
              "      <td>SH000905</td>\n",
              "      <td>1006.337</td>\n",
              "      <td>996.928</td>\n",
              "      <td>1006.457</td>\n",
              "      <td>993.123</td>\n",
              "      <td>997.606</td>\n",
              "      <td>8.731</td>\n",
              "      <td>0.8752</td>\n",
              "      <td>2949405.33</td>\n",
              "      <td>1650218.869</td>\n",
              "      <td>13.334</td>\n",
              "    </tr>\n",
              "  </tbody>\n",
              "</table>\n",
              "</div>\n",
              "      <button class=\"colab-df-convert\" onclick=\"convertToInteractive('df-f91d6e54-9cf3-4562-b8e0-362779f5ce82')\"\n",
              "              title=\"Convert this dataframe to an interactive table.\"\n",
              "              style=\"display:none;\">\n",
              "        \n",
              "  <svg xmlns=\"http://www.w3.org/2000/svg\" height=\"24px\"viewBox=\"0 0 24 24\"\n",
              "       width=\"24px\">\n",
              "    <path d=\"M0 0h24v24H0V0z\" fill=\"none\"/>\n",
              "    <path d=\"M18.56 5.44l.94 2.06.94-2.06 2.06-.94-2.06-.94-.94-2.06-.94 2.06-2.06.94zm-11 1L8.5 8.5l.94-2.06 2.06-.94-2.06-.94L8.5 2.5l-.94 2.06-2.06.94zm10 10l.94 2.06.94-2.06 2.06-.94-2.06-.94-.94-2.06-.94 2.06-2.06.94z\"/><path d=\"M17.41 7.96l-1.37-1.37c-.4-.4-.92-.59-1.43-.59-.52 0-1.04.2-1.43.59L10.3 9.45l-7.72 7.72c-.78.78-.78 2.05 0 2.83L4 21.41c.39.39.9.59 1.41.59.51 0 1.02-.2 1.41-.59l7.78-7.78 2.81-2.81c.8-.78.8-2.07 0-2.86zM5.41 20L4 18.59l7.72-7.72 1.47 1.35L5.41 20z\"/>\n",
              "  </svg>\n",
              "      </button>\n",
              "      \n",
              "  <style>\n",
              "    .colab-df-container {\n",
              "      display:flex;\n",
              "      flex-wrap:wrap;\n",
              "      gap: 12px;\n",
              "    }\n",
              "\n",
              "    .colab-df-convert {\n",
              "      background-color: #E8F0FE;\n",
              "      border: none;\n",
              "      border-radius: 50%;\n",
              "      cursor: pointer;\n",
              "      display: none;\n",
              "      fill: #1967D2;\n",
              "      height: 32px;\n",
              "      padding: 0 0 0 0;\n",
              "      width: 32px;\n",
              "    }\n",
              "\n",
              "    .colab-df-convert:hover {\n",
              "      background-color: #E2EBFA;\n",
              "      box-shadow: 0px 1px 2px rgba(60, 64, 67, 0.3), 0px 1px 3px 1px rgba(60, 64, 67, 0.15);\n",
              "      fill: #174EA6;\n",
              "    }\n",
              "\n",
              "    [theme=dark] .colab-df-convert {\n",
              "      background-color: #3B4455;\n",
              "      fill: #D2E3FC;\n",
              "    }\n",
              "\n",
              "    [theme=dark] .colab-df-convert:hover {\n",
              "      background-color: #434B5C;\n",
              "      box-shadow: 0px 1px 3px 1px rgba(0, 0, 0, 0.15);\n",
              "      filter: drop-shadow(0px 1px 2px rgba(0, 0, 0, 0.3));\n",
              "      fill: #FFFFFF;\n",
              "    }\n",
              "  </style>\n",
              "\n",
              "      <script>\n",
              "        const buttonEl =\n",
              "          document.querySelector('#df-f91d6e54-9cf3-4562-b8e0-362779f5ce82 button.colab-df-convert');\n",
              "        buttonEl.style.display =\n",
              "          google.colab.kernel.accessAllowed ? 'block' : 'none';\n",
              "\n",
              "        async function convertToInteractive(key) {\n",
              "          const element = document.querySelector('#df-f91d6e54-9cf3-4562-b8e0-362779f5ce82');\n",
              "          const dataTable =\n",
              "            await google.colab.kernel.invokeFunction('convertToInteractive',\n",
              "                                                     [key], {});\n",
              "          if (!dataTable) return;\n",
              "\n",
              "          const docLinkHtml = 'Like what you see? Visit the ' +\n",
              "            '<a target=\"_blank\" href=https://colab.research.google.com/notebooks/data_table.ipynb>data table notebook</a>'\n",
              "            + ' to learn more about interactive tables.';\n",
              "          element.innerHTML = '';\n",
              "          dataTable['output_type'] = 'display_data';\n",
              "          await google.colab.output.renderOutput(dataTable, element);\n",
              "          const docLink = document.createElement('div');\n",
              "          docLink.innerHTML = docLinkHtml;\n",
              "          element.appendChild(docLink);\n",
              "        }\n",
              "      </script>\n",
              "    </div>\n",
              "  </div>\n",
              "  "
            ]
          },
          "metadata": {},
          "execution_count": 4
        }
      ],
      "source": [
        "import pandas as pd\n",
        "import numpy as np\n",
        "import datetime\n",
        "import math\n",
        "import dtw as dtw\n",
        "from scipy.spatial import distance \n",
        "\n",
        "data = pd.read_csv(\"SH000905.csv\")\n",
        "data['trade_date'] = pd.to_datetime(data['trade_date'], format = '%Y%m%d') \n",
        "data.set_index(data['trade_date'],inplace=True)\n",
        "data.pop('trade_date')\n",
        "difference = []\n",
        "for i in range(len(data)):\n",
        "  difference.append(data['high'][i]-data['low'][i])\n",
        "data['difference'] = difference\n",
        "data.head()"
      ]
    },
    {
      "cell_type": "code",
      "execution_count": 5,
      "metadata": {
        "id": "db9UsGJal874"
      },
      "outputs": [],
      "source": [
        "start=datetime.datetime(2005,1,1)\n",
        "end=datetime.datetime(2017,1,1)\n",
        "train = data[start: end].reset_index()\n",
        "\n",
        "start=datetime.datetime(2017,1,1)\n",
        "end=datetime.datetime(2021,12,31)\n",
        "test = data[start: end].reset_index()"
      ]
    },
    {
      "cell_type": "code",
      "execution_count": 6,
      "metadata": {
        "id": "rpkx8gekOypC"
      },
      "outputs": [],
      "source": [
        "def dynamicProg(X, Y):\n",
        "  X = X.reset_index()\n",
        "  Y = Y.reset_index()\n",
        "  x = [X['close'], X['vol']]\n",
        "  y = [Y['close'], Y['vol']]\n",
        "  ds = dtw.dtw(x, y, step_pattern='asymmetric', open_begin=True, open_end=False)\n",
        "  return ds.distance\n",
        "\n",
        "distances_1,distances_2, distances_3 = [], [], []\n",
        "def findFromHistory(window, history, length):\n",
        "  minDistance = float('inf')\n",
        "  minStart = -1\n",
        "  flag = 0 # indicate short(0) or long(1)\n",
        "  nxt_day = 0\n",
        "  for i in range(len(history) - length):\n",
        "    curDistance = dynamicProg(window, history.iloc[i:i+length])\n",
        "    # print(curDistance)\n",
        "    if curDistance < minDistance:\n",
        "      minDistance = curDistance\n",
        "      minStart = i\n",
        "    \n",
        "      if history.loc[i+length]['change'] > 0:\n",
        "        flag = 1\n",
        "      else:\n",
        "        flag = 0\n",
        "    # break\n",
        "  #if abs(history.loc[minStart+length]['pct_chg']) >= 2:\n",
        "  #distances.append(minDistance)\n",
        "  return flag, minDistance\n",
        "correctness_1, correctness_2, correctness_3 = [], [], []\n",
        "def starter(test, history, winSize, cumulative_return):\n",
        "  win, lose = 0, 0\n",
        "  earning = 1\n",
        "  for i in range(len(test)-winSize):\n",
        "    window = test[i:i+winSize]\n",
        "    operation, minDistance = findFromHistory(window, history, winSize)\n",
        "    '''\n",
        "    X_std = sc.transform([[minDistance]])\n",
        "    y_pred = clf.predict(X_std)\n",
        "    # print(y_pred)\n",
        "    if y_pred[0] == 0:\n",
        "      operation = 1 - operation\n",
        "    '''\n",
        "    if operation == 1 and test.loc[i+winSize]['pct_chg'] > 0 or operation == 0 and test.loc[i+winSize]['pct_chg'] < 0:\n",
        "      win += 1\n",
        "      \n",
        "      if abs(test.loc[i+winSize]['pct_chg']) >= 1:\n",
        "        distances_1.append(minDistance)\n",
        "        correctness_1.append(1)\n",
        "      if abs(test.loc[i+winSize]['pct_chg']) >= 2:\n",
        "        distances_2.append(minDistance)\n",
        "        correctness_2.append(1)\n",
        "      if abs(test.loc[i+winSize]['pct_chg']) >= 3:\n",
        "        distances_3.append(minDistance)\n",
        "        correctness_3.append(1)\n",
        "      \n",
        "      if operation == 1:\n",
        "        earning *= 1 + test.loc[i+winSize]['pct_chg']/100\n",
        "      else:\n",
        "        earning *= 1 + abs(test.loc[i+winSize]['pct_chg'])/100\n",
        "    else:\n",
        "      lose += 1\n",
        "      \n",
        "      if abs(test.loc[i+winSize]['pct_chg']) >= 1:\n",
        "        distances_1.append(minDistance)\n",
        "        correctness_1.append(0)\n",
        "      if abs(test.loc[i+winSize]['pct_chg']) >= 2:\n",
        "        distances_2.append(minDistance)\n",
        "        correctness_2.append(0)\n",
        "      if abs(test.loc[i+winSize]['pct_chg']) >= 3:\n",
        "        distances_3.append(minDistance)\n",
        "        correctness_3.append(0)\n",
        "      \n",
        "      if operation == 1:\n",
        "        earning *= 1 + test.loc[i+winSize]['pct_chg']/100\n",
        "      else:\n",
        "        earning *= 1 - test.loc[i+winSize]['pct_chg']/100\n",
        "    # break\n",
        "    cumulative_return.append(earning)\n",
        "  print(win, lose, earning-1)\n",
        "  return (win, lose, earning)\n",
        "\n",
        "\n",
        "# start, end = 0, 50\n",
        "# window = data.iloc[-11:].reset_index()\n",
        "# history = data.iloc[:-11].reset_index()\n",
        "\n",
        "# dynamicProg(data.iloc[:-11], history.iloc[:11])\n",
        "# X, Y = [1,4,4,8,3,2,7,9,8,3,1], [2,3,9,6,2,2,5,8,9,4,3]\n",
        "# dynamicProg(X, Y)\n"
      ]
    },
    {
      "cell_type": "code",
      "execution_count": 7,
      "metadata": {
        "colab": {
          "base_uri": "https://localhost:8080/"
        },
        "id": "_31FrnCuh6JS",
        "outputId": "6e0757b4-66d6-4640-f58d-e2fd00a28898"
      },
      "outputs": [
        {
          "output_type": "stream",
          "name": "stdout",
          "text": [
            "597 610 0.05120749672537239\n"
          ]
        }
      ],
      "source": [
        "window_list = [10]\n",
        "rec = []\n",
        "cumulative_return = []\n",
        "for i in window_list:\n",
        "  rec.append(starter(test, train, i, cumulative_return))"
      ]
    },
    {
      "cell_type": "code",
      "execution_count": 8,
      "metadata": {
        "colab": {
          "base_uri": "https://localhost:8080/",
          "height": 282
        },
        "id": "fS32WO5OPPyu",
        "outputId": "8df167d8-6db9-4355-bab9-e11fbbb39fae"
      },
      "outputs": [
        {
          "output_type": "execute_result",
          "data": {
            "text/plain": [
              "[<matplotlib.lines.Line2D at 0x7f65b48b63a0>]"
            ]
          },
          "metadata": {},
          "execution_count": 8
        },
        {
          "output_type": "display_data",
          "data": {
            "text/plain": [
              "<Figure size 432x288 with 1 Axes>"
            ],
            "image/png": "[encoded data removed]"
          },
          "metadata": {
            "needs_background": "light"
          }
        }
      ],
      "source": [
        "import matplotlib.pyplot as plt\n",
        "plt.plot(test['trade_date'][:-10], cumulative_return)"
      ]
    },
    {
      "cell_type": "code",
      "execution_count": null,
      "metadata": {
        "id": "UmsLTRXqPmDk"
      },
      "outputs": [],
      "source": [
        "X, Y = np.array(distances_2), np.array(correctness_2)\n",
        "X = X.reshape(-1, 1)\n",
        "#Y = Y.reshape(-1, 1)\n",
        "from sklearn.preprocessing import StandardScaler\n",
        "sc = StandardScaler()\n",
        "sc.fit(X)\n",
        "X_std = sc.transform(X)\n",
        "from sklearn.model_selection import train_test_split\n",
        "X_train, X_test, y_train, y_test = train_test_split(X_std, Y, test_size=0.2, random_state=42, stratify=Y)\n",
        "# X_combined_std = np.vstack((X_train_std, X_test_std))"
      ]
    },
    {
      "cell_type": "code",
      "execution_count": null,
      "metadata": {
        "colab": {
          "base_uri": "https://localhost:8080/"
        },
        "id": "1MBUmiYKl_JI",
        "outputId": "2b0f3e05-2325-42e9-bfb6-f9c06ac115be"
      },
      "outputs": [
        {
          "name": "stdout",
          "output_type": "stream",
          "text": [
            "              precision    recall  f1-score   support\n",
            "\n",
            "           0       0.83      0.31      0.45        16\n",
            "           1       0.61      0.94      0.74        18\n",
            "\n",
            "    accuracy                           0.65        34\n",
            "   macro avg       0.72      0.63      0.60        34\n",
            "weighted avg       0.71      0.65      0.61        34\n",
            "\n"
          ]
        }
      ],
      "source": [
        "from numpy.ma.core import array\n",
        "from sklearn.linear_model import LogisticRegression\n",
        "from sklearn.metrics import classification_report\n",
        "\n",
        "clf = LogisticRegression(random_state=0).fit(X_train, y_train)\n",
        "pred_y = clf.predict(X_test)\n",
        "print(classification_report(y_test, pred_y))\n"
      ]
    },
    {
      "cell_type": "code",
      "execution_count": null,
      "metadata": {
        "colab": {
          "base_uri": "https://localhost:8080/"
        },
        "id": "gYTHQOSuU4va",
        "outputId": "2deb7ba2-f585-40a4-99c9-fb7acfe677fb"
      },
      "outputs": [
        {
          "name": "stdout",
          "output_type": "stream",
          "text": [
            "              precision    recall  f1-score   support\n",
            "\n",
            "           0       0.42      1.00      0.59         5\n",
            "           1       0.00      0.00      0.00         7\n",
            "\n",
            "    accuracy                           0.42        12\n",
            "   macro avg       0.21      0.50      0.29        12\n",
            "weighted avg       0.17      0.42      0.25        12\n",
            "\n"
          ]
        },
        {
          "name": "stderr",
          "output_type": "stream",
          "text": [
            "/usr/local/lib/python3.7/dist-packages/sklearn/metrics/_classification.py:1318: UndefinedMetricWarning: Precision and F-score are ill-defined and being set to 0.0 in labels with no predicted samples. Use `zero_division` parameter to control this behavior.\n",
            "  _warn_prf(average, modifier, msg_start, len(result))\n",
            "/usr/local/lib/python3.7/dist-packages/sklearn/metrics/_classification.py:1318: UndefinedMetricWarning: Precision and F-score are ill-defined and being set to 0.0 in labels with no predicted samples. Use `zero_division` parameter to control this behavior.\n",
            "  _warn_prf(average, modifier, msg_start, len(result))\n",
            "/usr/local/lib/python3.7/dist-packages/sklearn/metrics/_classification.py:1318: UndefinedMetricWarning: Precision and F-score are ill-defined and being set to 0.0 in labels with no predicted samples. Use `zero_division` parameter to control this behavior.\n",
            "  _warn_prf(average, modifier, msg_start, len(result))\n"
          ]
        }
      ],
      "source": [
        "from sklearn.linear_model import Perceptron\n",
        "\n",
        "ppn = Perceptron(random_state=0)\n",
        "ppn.fit(X_train, y_train)\n",
        "\n",
        "# 分类测试集，这将返回一个测试结果的数组\n",
        "y_pred = ppn.predict(X_test)\n",
        "\n",
        "print(classification_report(y_test, y_pred))"
      ]
    },
    {
      "cell_type": "code",
      "execution_count": null,
      "metadata": {
        "colab": {
          "base_uri": "https://localhost:8080/"
        },
        "id": "4CZZll5QV_zn",
        "outputId": "2eb2abb2-71c1-4a5b-f7cb-988b7b0b4602"
      },
      "outputs": [
        {
          "name": "stdout",
          "output_type": "stream",
          "text": [
            "              precision    recall  f1-score   support\n",
            "\n",
            "           0       0.33      0.20      0.25         5\n",
            "           1       0.56      0.71      0.63         7\n",
            "\n",
            "    accuracy                           0.50        12\n",
            "   macro avg       0.44      0.46      0.44        12\n",
            "weighted avg       0.46      0.50      0.47        12\n",
            "\n"
          ]
        }
      ],
      "source": [
        "from sklearn.ensemble import RandomForestClassifier     #导入需要的模块\n",
        "rfc = RandomForestClassifier()                      #实例化\n",
        "rfc = rfc.fit(X_train,y_train)                      #用训练集数据训练模型\n",
        "y_pred = rfc.predict(X_test)\n",
        "print(classification_report(y_test, y_pred))"
      ]
    },
    {
      "cell_type": "code",
      "execution_count": null,
      "metadata": {
        "colab": {
          "base_uri": "https://localhost:8080/",
          "height": 283
        },
        "id": "J_YQjq2uL0DQ",
        "outputId": "9026ee67-4509-4eff-f224-d30bbc29d70b"
      },
      "outputs": [
        {
          "data": {
            "text/plain": [
              "<matplotlib.axes._subplots.AxesSubplot at 0x7f00b3e1fbd0>"
            ]
          },
          "execution_count": 31,
          "metadata": {},
          "output_type": "execute_result"
        },
        {
          "data": {
            "image/png": "[encoded data removed]",
            "text/plain": [
              "<Figure size 432x288 with 2 Axes>"
            ]
          },
          "metadata": {},
          "output_type": "display_data"
        }
      ],
      "source": [
        "from pandas.core.frame import DataFrame\n",
        "d = {'distance': distances, 'correctness': correctness}\n",
        "df = DataFrame(d)\n",
        "df.plot.scatter(x='distance' , y='correctness' , c='correctness' , colormap='viridis')"
      ]
    },
    {
      "cell_type": "markdown",
      "metadata": {
        "id": "_nIbvFuMSti_"
      },
      "source": [
        "不同参数下的混合策略"
      ]
    },
    {
      "cell_type": "code",
      "execution_count": null,
      "metadata": {
        "id": "99Y8kAGF_xGf"
      },
      "outputs": [],
      "source": [
        "import collections\n",
        "select_win = []\n",
        "def starter(test, history, winSize):\n",
        "  win, lose = 0, 0\n",
        "  earning = 0\n",
        "  for winSize in select_win:\n",
        "    rec = []\n",
        "    for i in range(len(test)-winSize):\n",
        "      window = test[i:i+winSize]\n",
        "      rec.append(findFromHistory(window, history, winSize))\n",
        "    d = collections.Counter(rec)\n",
        "    if d[1] > d[0]:\n",
        "      operation = 1\n",
        "    else:\n",
        "      operation = 0\n",
        "    if operation == 1 and test.loc[i+winSize]['change'] > 0 or operation == 0 and test.loc[i+winSize]['change'] < 0:\n",
        "      win += 1\n",
        "      if operation == 1:\n",
        "        earning *= 1 + test.loc[i+winSize]['change']/test.loc[i+winSize-1]['close']\n",
        "      else:\n",
        "        earning *= 1 + abs(test.loc[i+winSize]['change'])/test.loc[i+winSize]['close']\n",
        "    else:\n",
        "      lose += 1\n",
        "      if operation == 1:\n",
        "        earning *= 1 + test.loc[i+winSize]['change']/test.loc[i+winSize-1]['close']\n",
        "      else:\n",
        "        earning *= 1 - abs(test.loc[i+winSize]['change'])/test.loc[i+winSize]['close']\n",
        "  print(win, lose, earning)\n",
        "  return"
      ]
    }
  ],
  "metadata": {
    "colab": {
      "provenance": [],
      "machine_shape": "hm"
    },
    "kernelspec": {
      "display_name": "Python 3",
      "name": "python3"
    },
    "language_info": {
      "name": "python"
    },
    "gpuClass": "premium"
  },
  "nbformat": 4,
  "nbformat_minor": 0
}